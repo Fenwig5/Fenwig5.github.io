# -*- coding: utf-8 -*-
"""
Created on Thu Sep 29 10:18:16 2022
Net Sec Lab 2
@author: timst
"""

#convert ciphertext input into binary
#---------------------------------------
ciphertext = "266E2A7732713036"
binCiphertext = bin(int(ciphertext, 16))

#scale = 16 ## equals to hexadecimal
#num_of_bits = 8
#binCiphertext = bin(int(my_hexdata, scale))[2:].zfill(num_of_bits)
print(binCiphertext)

#display as 8x8 grid
'''
print(binCiphertext[0:7])
print(binCiphertext[8:15])
print(binCiphertext[16:23])
print(binCiphertext[24:31])
print(binCiphertext[32:39])
print(binCiphertext[40:47])
print(binCiphertext[48:55])
print(binCiphertext[56:63])
'''
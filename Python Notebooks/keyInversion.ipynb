# -*- coding: utf-8 -*-
"""
Created on Wed Oct 12 18:59:58 2022
Key Inversion Algorithm in a Transposition Cipher
For - Wei Lu CS455 Cryptography & Network Security, Midterm - question 2
@author: timothy c stockton ii
"""

#declare variables
encryptionKey = "2631475"
decryptionKey = "0000000"
#variable for loop index
i = 0
#convert strings to lists
EKList = list(encryptionKey)
DKList = list(decryptionKey)
#for each character in the encryption key
while i < len(EKList):
    #formula: decryptionKey[encryptionKey[i]] = i
    #determine the ith number of the encryption key
    tempIndex = int(EKList[i])    
    #use that number as the index for the decryption key and save the value i to that index
    DKList[tempIndex - 1] = i + 1
    #increment index variable for loop
    i += 1
#end while
#turn list into string
decryptionKey = ''.join(map(str, DKList))
#output
print(decryptionKey) #display inverted key, a String